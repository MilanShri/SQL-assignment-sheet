{
  "nbformat": 4,
  "nbformat_minor": 0,
  "metadata": {
    "colab": {
      "provenance": [],
      "authorship_tag": "ABX9TyOquHGtGalZwQ5LfCykh35T",
      "include_colab_link": true
    },
    "kernelspec": {
      "name": "python3",
      "display_name": "Python 3"
    },
    "language_info": {
      "name": "python"
    }
  },
  "cells": [
    {
      "cell_type": "markdown",
      "metadata": {
        "id": "view-in-github",
        "colab_type": "text"
      },
      "source": [
        "<a href=\"https://colab.research.google.com/github/MilanShri/SQL-assignment-sheet/blob/main/OOPS_Assignment_Questions.ipynb\" target=\"_parent\"><img src=\"https://colab.research.google.com/assets/colab-badge.svg\" alt=\"Open In Colab\"/></a>"
      ]
    },
    {
      "cell_type": "code",
      "execution_count": 1,
      "metadata": {
        "id": "19WZm4fj2e7R"
      },
      "outputs": [],
      "source": [
        "#1. What are the five key concepts of Object-Oriented Programming (OOP)?\n",
        "#Ans The five key concepts of Object-Oriented Programming (OOP) are:\n",
        "\n",
        "    #Encapsulation: This involves bundling the data (attributes) and methods (functions) that operate on the data into a single unit or class. It restricts direct access to some components, enhancing security and reducing complexity.\n",
        "\n",
        "    #Abstraction: Abstraction simplifies complex systems by modeling classes based on the essential properties and behaviors relevant to the context, hiding unnecessary details. It allows programmers to focus on interactions at a higher level.\n",
        "\n",
        "    #Inheritance: This concept allows a new class (subclass or derived class) to inherit attributes and methods from an existing class (superclass or base class). It promotes code reuse and establishes a hierarchical relationship between classes.\n",
        "\n",
        "    #Polymorphism: Polymorphism allows methods to do different things based on the object that it is acting upon. It can be achieved through method overriding (same method name, different implementation in subclasses) and method overloading (same method name, different parameters).\n",
        "\n",
        "#Classes and Objects: A class is a blueprint for creating objects, defining the attributes and behaviors. An object is an instance of a class, representing a specific implementation of the class with its own state and behavior.\n"
      ]
    },
    {
      "cell_type": "code",
      "source": [
        "#2. Write a Python class for a `Car` with attributes for `make`, `model`, and `year`. Include a method to display the car's information.\n",
        "#ans\n",
        "class Car:\n",
        "    def __init__(self, make, model, year):\n",
        "        self.make = make\n",
        "        self.model = model\n",
        "        self.year = year\n",
        "\n",
        "    def display_info(self):\n",
        "        print(f\"Car Information:\\nMake: {self.make}\\nModel: {self.model}\\nYear: {self.year}\")"
      ],
      "metadata": {
        "id": "ZI6jEDeZ2vET"
      },
      "execution_count": 2,
      "outputs": []
    },
    {
      "cell_type": "code",
      "source": [
        "obj=Car(\"hyundai\",2020, 2024)"
      ],
      "metadata": {
        "id": "JxaOfu5420a9"
      },
      "execution_count": 3,
      "outputs": []
    },
    {
      "cell_type": "code",
      "source": [
        "obj.model"
      ],
      "metadata": {
        "colab": {
          "base_uri": "https://localhost:8080/"
        },
        "id": "6MJ6HhI524WZ",
        "outputId": "2054111a-88fb-480e-ce23-2b06e096bd22"
      },
      "execution_count": 4,
      "outputs": [
        {
          "output_type": "execute_result",
          "data": {
            "text/plain": [
              "2020"
            ]
          },
          "metadata": {},
          "execution_count": 4
        }
      ]
    },
    {
      "cell_type": "code",
      "source": [
        "#3. Explain the difference between instance methods and class methods. Provide an example of each.\n",
        "#Ans\n",
        "#Instance Methods Definition: Instance methods are functions defined inside a class that operate on instances of that class. They take self as the first parameter, which refers to the specific instance of the class.\n",
        "class Dog:\n",
        "    def __init__(self, name):\n",
        "        self.name = name\n",
        "\n",
        "    def bark(self):\n",
        "        return f\"{self.name} says Woof!\"\n",
        "\n",
        "#Class Methods\n",
        "\n",
        "# Definition: Class methods are functions that operate on the class itself rather than on instances of the class. They take cls as the first parameter, which refers to the class itself. Class methods are defined using the @classmethod decorator.\n",
        "class Dog:\n",
        "    species = \"Canis lupus familiaris\"\n",
        "\n",
        "    @classmethod\n",
        "    def get_species(cls):\n",
        "        return cls.species"
      ],
      "metadata": {
        "id": "yQVsVEDi26OE"
      },
      "execution_count": 7,
      "outputs": []
    },
    {
      "cell_type": "code",
      "source": [
        "kutta=Dog(\"Tommy\")"
      ],
      "metadata": {
        "colab": {
          "base_uri": "https://localhost:8080/",
          "height": 141
        },
        "id": "VAiEVBEV28xv",
        "outputId": "5a040d3b-d44a-4b2a-93e9-c1849cf218ce"
      },
      "execution_count": 14,
      "outputs": [
        {
          "output_type": "error",
          "ename": "TypeError",
          "evalue": "Dog() takes no arguments",
          "traceback": [
            "\u001b[0;31m---------------------------------------------------------------------------\u001b[0m",
            "\u001b[0;31mTypeError\u001b[0m                                 Traceback (most recent call last)",
            "\u001b[0;32m<ipython-input-14-aeeb8bcd1813>\u001b[0m in \u001b[0;36m<cell line: 0>\u001b[0;34m()\u001b[0m\n\u001b[0;32m----> 1\u001b[0;31m \u001b[0mkutta\u001b[0m\u001b[0;34m=\u001b[0m\u001b[0mDog\u001b[0m\u001b[0;34m(\u001b[0m\u001b[0;34m\"Tommy\"\u001b[0m\u001b[0;34m)\u001b[0m\u001b[0;34m\u001b[0m\u001b[0;34m\u001b[0m\u001b[0m\n\u001b[0m",
            "\u001b[0;31mTypeError\u001b[0m: Dog() takes no arguments"
          ]
        }
      ]
    },
    {
      "cell_type": "code",
      "source": [
        "kutta.bark()"
      ],
      "metadata": {
        "colab": {
          "base_uri": "https://localhost:8080/",
          "height": 141
        },
        "id": "eGLSeBT33Nh_",
        "outputId": "55c67da6-3bea-4300-bec3-f5fe1306718a"
      },
      "execution_count": 15,
      "outputs": [
        {
          "output_type": "error",
          "ename": "AttributeError",
          "evalue": "'Dog' object has no attribute 'bark'",
          "traceback": [
            "\u001b[0;31m---------------------------------------------------------------------------\u001b[0m",
            "\u001b[0;31mAttributeError\u001b[0m                            Traceback (most recent call last)",
            "\u001b[0;32m<ipython-input-15-98d63dc59aa9>\u001b[0m in \u001b[0;36m<cell line: 0>\u001b[0;34m()\u001b[0m\n\u001b[0;32m----> 1\u001b[0;31m \u001b[0mkutta\u001b[0m\u001b[0;34m.\u001b[0m\u001b[0mbark\u001b[0m\u001b[0;34m(\u001b[0m\u001b[0;34m)\u001b[0m\u001b[0;34m\u001b[0m\u001b[0;34m\u001b[0m\u001b[0m\n\u001b[0m",
            "\u001b[0;31mAttributeError\u001b[0m: 'Dog' object has no attribute 'bark'"
          ]
        }
      ]
    },
    {
      "cell_type": "code",
      "source": [
        "#4. How does Python implement method overloading? Give an example\n",
        "# ans As we know python truely dont support overloading\n",
        "# Python, method overloading (the ability to define multiple methods with the same name but different parameters) is not supported in the traditional sense as it is in some other languages like Java or C++. Instead, Python allows you to achieve similar behavior using default arguments, variable-length arguments, or by checking the types of arguments within a single method.\n",
        "#can use *args to allow for any number of arguments:\n",
        "class Calculator:\n",
        "    def add(self, *args):\n",
        "        return sum(args)\n",
        "\n",
        "# Example usage\n",
        "calc = Calculator()\n",
        "print(calc.add(5))                  # Output: 5\n",
        "print(calc.add(5, 10))              # Output: 15\n",
        "print(calc.add(5, 10, 15, 20))      # Output: 50\n",
        "\n",
        "\n",
        "class Calculator:\n",
        "    def add(self, a, b=0, c=0):\n",
        "        return a + b + c\n",
        "\n",
        "# Example usage\n",
        "calc = Calculator()\n",
        "print(calc.add(5))         # Output: 5\n",
        "print(calc.add(5, 10))     # Output: 15\n",
        "print(calc.add(5, 10, 15))  # Output: 30"
      ],
      "metadata": {
        "colab": {
          "base_uri": "https://localhost:8080/"
        },
        "id": "jcckCEZh3jp2",
        "outputId": "0e829329-6c05-436c-8734-8846494a8ce6"
      },
      "execution_count": 16,
      "outputs": [
        {
          "output_type": "stream",
          "name": "stdout",
          "text": [
            "5\n",
            "15\n",
            "50\n",
            "5\n",
            "15\n",
            "30\n"
          ]
        }
      ]
    },
    {
      "cell_type": "code",
      "source": [
        "#5. What are the three types of access modifiers in Python? How are they denoted?\n",
        "#Ans In Python, there are three main types of access modifiers that determine the visibility of class attributes and methods. They are:\n",
        "\n",
        "### 1. Public\n",
        "\n",
        "# Definition: Public members are accessible from anywhere in the code. There are no restrictions on accessing these attributes or methods.\n",
        "# Denotation: Public attributes and methods do not have any special prefix.\n",
        "\n",
        "\n",
        "class Example:\n",
        "    def __init__(self):\n",
        "        self.public_attr = \"I am public\"\n",
        "\n",
        "    def public_method(self):\n",
        "        return \"This is a public method\"\n",
        "\n",
        "\n",
        "\n",
        "#2. Protected\n",
        "\n",
        "#Definition**: Protected members are intended to be accessible only within the class and its subclasses. However, they can still be accessed from outside the class, which is more of a convention than an enforced restriction.\n",
        "#Denotation**: Protected attributes and methods are denoted by a single underscore prefix (`_`).\n",
        "\n",
        "\n",
        "class Example:\n",
        "    def __init__(self):\n",
        "        self._protected_attr = \"I am protected\"\n",
        "\n",
        "    def _protected_method(self):\n",
        "        return \"This is a protected method\"\n",
        "\n",
        "class SubExample(Example):\n",
        "    def access_protected(self):\n",
        "        return self._protected_attr\n",
        "\n",
        "\n",
        "\n",
        "#3. Private\n",
        "\n",
        "#Definition**: Private members are intended to be accessible only within the class in which they are defined. They cannot be accessed from outside the class, not even by subclasses.\n",
        "#Denotation**: Private attributes and methods are denoted by a double underscore prefix (`__`).\n",
        "\n",
        "\n",
        "class Example:\n",
        "    def __init__(self):\n",
        "        self.__private_attr = \"I am private\"\n",
        "\n",
        "    def __private_method(self):\n",
        "        return \"This is a private method\"\n",
        "\n",
        "    def access_private(self):\n",
        "        return self.__private_attr"
      ],
      "metadata": {
        "id": "pC99EfVa337X"
      },
      "execution_count": 17,
      "outputs": []
    },
    {
      "cell_type": "code",
      "source": [
        "#6 Describe the five types of inheritance in Python. Provide a simple example of multiple inheritance\n",
        "\n",
        "#In Python, inheritance allows one class (the child or derived class) to inherit attributes and methods from another class (the parent or base class). Here are the five main types of inheritance:\n",
        "\n",
        "### 1. Single Inheritance\n",
        "#A class inherits from one base class.\n",
        "\n",
        "\n",
        "class Parent:\n",
        "    def show(self):\n",
        "        return \"This is the parent class.\"\n",
        "\n",
        "class Child(Parent):\n",
        "    def display(self):\n",
        "        return \"This is the child class.\"\n",
        "\n",
        "\n",
        "# 2. Multiple Inheritance\n",
        "#A class can inherit from more than one base class.\n",
        "\n",
        "\n",
        "class Base1:\n",
        "    def method1(self):\n",
        "        return \"Method from Base1\"\n",
        "\n",
        "class Base2:\n",
        "    def method2(self):\n",
        "        return \"Method from Base2\"\n",
        "\n",
        "class Derived(Base1, Base2):\n",
        "    def method3(self):\n",
        "        return \"Method from Derived\"\n",
        "\n",
        "\n",
        "# 3. Multilevel Inheritance\n",
        "#A class inherits from a class that is also derived from another class.\n",
        "\n",
        "#**Example**:\n",
        "#```python\n",
        "class Grandparent:\n",
        "    def show(self):\n",
        "        return \"This is the grandparent class.\"\n",
        "\n",
        "class Parent(Grandparent):\n",
        "    def display(self):\n",
        "        return \"This is the parent class.\"\n",
        "\n",
        "class Child(Parent):\n",
        "    def info(self):\n",
        "        return \"This is the child class.\"\n",
        "\n",
        "\n",
        "# 4. Hierarchical Inheritance\n",
        "#Multiple classes inherit from the same base class.\n",
        "\n",
        "class Parent:\n",
        "    def show(self):\n",
        "        return \"This is the parent class.\"\n",
        "\n",
        "class Child1(Parent):\n",
        "    def info(self):\n",
        "        return \"This is child class 1.\"\n",
        "\n",
        "class Child2(Parent):\n",
        "    def info(self):\n",
        "        return \"This is child class 2.\"\n",
        "\n",
        "# 5. Hybrid Inheritance\n",
        "#A combination of two or more types of inheritance, such as a mix of multiple and multilevel inheritance.\n",
        "\n",
        "\n",
        "class Base:\n",
        "    def base_method(self):\n",
        "        return \"Method from Base\"\n",
        "\n",
        "class A(Base):\n",
        "    def method_a(self):\n",
        "        return \"Method from Class A\"\n",
        "\n",
        "class B(Base):\n",
        "    def method_b(self):\n",
        "        return \"Method from Class B\"\n",
        "\n",
        "class C(A, B):\n",
        "    def method_c(self):\n",
        "        return \"Method from Class C\""
      ],
      "metadata": {
        "id": "N56oCP-V3-Jb"
      },
      "execution_count": 22,
      "outputs": []
    },
    {
      "cell_type": "code",
      "source": [
        "#7 What is the Method Resolution Order (MRO) in Python? How can you retrieve it programmatically?\n",
        "#ans **Method Resolution Order (MRO)** in Python refers to the order in which classes are looked up when searching for a method or attribute. This is particularly important in the context of multiple inheritance, where a class can inherit from multiple parent classes. MRO determines the sequence in which base classes are considered.\n",
        "\n",
        "#Python uses the **C3 Linearization** algorithm (also known as C3 superclass linearization) to calculate the MRO. This algorithm ensures that the method resolution follows a specific order that respects the inheritance hierarchy.\n",
        "\n",
        "# Retrieving the MRO\n",
        "\n",
        "#You can retrieve the MRO for a class using the built-in method `mro()` or the `__mro__` attribute.\n",
        "\n",
        "#**Example**:\n",
        "\n",
        "\n",
        "class A:\n",
        "    pass\n",
        "\n",
        "class B(A):\n",
        "    pass\n",
        "\n",
        "class C(A):\n",
        "    pass\n",
        "\n",
        "class D(B, C):\n",
        "    pass\n",
        "\n",
        "# Retrieve MRO\n",
        "print(D.mro())          # Output: [<class '__main__.D'>, <class '__main__.B'>, <class '__main__.C'>, <class '__main__.A'>, <class 'object'>]\n",
        "print(D.__mro__)       # Output: (<class '__main__.D'>, <class '__main__.B'>, <class '__main__.C'>, <class '__main__.A'>, <class 'object'>)\n"
      ],
      "metadata": {
        "colab": {
          "base_uri": "https://localhost:8080/"
        },
        "id": "945oUIvg4C-M",
        "outputId": "21586fe2-34c9-4061-ad1b-ca3abb533e4b"
      },
      "execution_count": 24,
      "outputs": [
        {
          "output_type": "stream",
          "name": "stdout",
          "text": [
            "[<class '__main__.D'>, <class '__main__.B'>, <class '__main__.C'>, <class '__main__.A'>, <class 'object'>]\n",
            "(<class '__main__.D'>, <class '__main__.B'>, <class '__main__.C'>, <class '__main__.A'>, <class 'object'>)\n"
          ]
        }
      ]
    },
    {
      "cell_type": "code",
      "source": [
        "#8. Create an abstract base class `Shape` with an abstract method `area()`. Then create two subclasses Circle` and `Rectangle` that implement the `area()` method.\n",
        "#Ans\n",
        "from abc import ABC, abstractmethod\n",
        "import math\n",
        "\n",
        "# Abstract base class\n",
        "class Shape(ABC):\n",
        "    @abstractmethod\n",
        "    def area(self):\n",
        "        pass\n",
        "\n",
        "# Subclass for Circle\n",
        "class Circle(Shape):\n",
        "    def __init__(self, radius):\n",
        "        self.radius = radius\n",
        "\n",
        "    def area(self):\n",
        "        return math.pi * (self.radius ** 2)\n",
        "\n",
        "# Subclass for Rectangle\n",
        "class Rectangle(Shape):\n",
        "    def __init__(self, width, height):\n",
        "        self.width = width\n",
        "        self.height = height\n",
        "\n",
        "    def area(self):\n",
        "        return self.width * self.height"
      ],
      "metadata": {
        "id": "qGvDCCjC4eIF"
      },
      "execution_count": 25,
      "outputs": []
    },
    {
      "cell_type": "code",
      "source": [
        "#9. Demonstrate polymorphism by creating a function that can work with different shape objects to calculate and print their areas.\n",
        "#ans\n",
        "from abc import ABC, abstractmethod\n",
        "import math\n",
        "\n",
        "# Abstract base class\n",
        "class Shape(ABC):\n",
        "    @abstractmethod\n",
        "    def area(self):\n",
        "        pass\n",
        "\n",
        "# Subclass for Circle\n",
        "class Circle(Shape):\n",
        "    def __init__(self, radius):\n",
        "        self.radius = radius\n",
        "\n",
        "    def area(self):\n",
        "        return math.pi * (self.radius ** 2)\n",
        "\n",
        "# Subclass for Rectangle\n",
        "class Rectangle(Shape):\n",
        "    def __init__(self, width, height):\n",
        "        self.width = width\n",
        "        self.height = height\n",
        "\n",
        "    def area(self):\n",
        "        return self.width * self.height\n",
        "\n",
        "# Function to calculate and print area\n",
        "def print_area(shape: Shape):\n",
        "    print(f\"Area: {shape.area():.2f}\")"
      ],
      "metadata": {
        "id": "pVoj-67Q4kmC"
      },
      "execution_count": 26,
      "outputs": []
    },
    {
      "cell_type": "code",
      "source": [
        "#10. Implement encapsulation in a `BankAccount` class with private attributes for `balance` and account_number`. Include methods for deposit, withdrawal, and balance inquiry.\n",
        "#ans class BankAccount:\n",
        "  def __init__(self, account_number, initial_balance=0):\n",
        "    self.__account_number = account_number  # Private attribute\n",
        "    self.__balance = initial_balance          # Private attribute\n",
        "\n",
        "  def deposit(self, amount):\n",
        "    if amount > 0:\n",
        "      self.__balance += amount\n",
        "        print(f\"Deposited: ${amount:.2f}\")\n",
        "        else:\n",
        "          print(\"Deposit amount must be positive.\")\n",
        "\n",
        "  def withdraw(self, amount):\n",
        "        if 0 < amount <= self.__balance:\n",
        "            self.__balance -= amount\n",
        "            print(f\"Withdrew: ${amount:.2f}\")\n",
        "        else:\n",
        "            print(\"Insufficient funds or invalid withdrawal amount.\")\n",
        "\n",
        "  def get_balance(self):\n",
        "        return self.__balance\n",
        "\n",
        "  def get_account_number(self):\n",
        "        return self.__account_number"
      ],
      "metadata": {
        "id": "xjiTIMLi4nx2"
      },
      "execution_count": 32,
      "outputs": []
    },
    {
      "cell_type": "code",
      "source": [
        "#11.Write a class that overrides the `__str__` and `__add__` magic methods. What will these methods allow you to do?\n",
        "#Ans\n",
        "class Vector:\n",
        "    def __init__(self, x, y):\n",
        "        self.x = x\n",
        "        self.y = y\n",
        "\n",
        "    def __str__(self):\n",
        "        return f\"Vector({self.x}, {self.y})\"\n",
        "\n",
        "    def __add__(self, other):\n",
        "        if isinstance(other, Vector):\n",
        "            return Vector(self.x + other.x, self.y + other.y)\n",
        "        return NotImplemented\n",
        "\n",
        ""
      ],
      "metadata": {
        "id": "3LDd4KNM4rD8"
      },
      "execution_count": 33,
      "outputs": []
    },
    {
      "cell_type": "code",
      "source": [
        "#12. Create a decorator that measures and prints the execution time of a function.\n",
        "#ans import time\n",
        "\n",
        "import time\n",
        "\n",
        "def time_execution(func):\n",
        "    def wrapper(*args, **kwargs):\n",
        "        start_time = time.time()  # Record the start time\n",
        "        result = func(*args, **kwargs)  # Call the original function\n",
        "        end_time = time.time()  # Record the end time\n",
        "        execution_time = end_time - start_time  # Calculate the execution time\n",
        "        print(f\"Execution time of '{func.__name__}': {execution_time:.4f} seconds\")\n",
        "        return result  # Return the result of the original function\n",
        "    return wrapper\n",
        "\n",
        "# Example usage of the decorator\n",
        "@time_execution\n",
        "def example_function(n):\n",
        "    total = 0\n",
        "    for i in range(n):\n",
        "        total += i\n",
        "    return total\n",
        "\n",
        "if __name__ == \"__main__\":\n",
        "    result = example_function(1000000)\n",
        "    print(f\"Result: {result}\")"
      ],
      "metadata": {
        "colab": {
          "base_uri": "https://localhost:8080/"
        },
        "id": "f92_YM1Y5Hb4",
        "outputId": "4c27fdfb-04b3-4aaf-ccd0-dd2df489bc57"
      },
      "execution_count": 35,
      "outputs": [
        {
          "output_type": "stream",
          "name": "stdout",
          "text": [
            "Execution time of 'example_function': 0.0531 seconds\n",
            "Result: 499999500000\n"
          ]
        }
      ]
    },
    {
      "cell_type": "code",
      "source": [
        "# 13.Explain the concept of the Diamond Problem in multiple inheritance. How does Python resolve it?\n",
        "#ans\n",
        "#The **Diamond Problem** is a common issue that arises in multiple inheritance scenarios, particularly in languages that allow a class to inherit from more than one parent class. The problem occurs when a class inherits from two classes that both inherit from a common ancestor. This creates a \"diamond\" shape in the inheritance hierarchy, which can lead to ambiguity regarding which method or attribute should be inherited from the common ancestor.\n",
        "\n",
        "\n",
        "# Python's Resolution of the Diamond Problem\n",
        "\n",
        "#Python uses the **C3 Linearization** algorithm (also known as C3 superclass linearization) to resolve the Diamond Problem. This algorithm ensures a consistent and predictable method resolution order (MRO) by considering the following rules:\n",
        "\n",
        "#1. The parent classes are searched in the order they are listed.\n",
        "#2. The base classes are searched before their children.\n",
        "#3. A class cannot be a parent of itself.\n",
        "\n",
        "\n",
        "\n",
        "#Here’s an example demonstrating the Diamond Problem in Python:\n",
        "\n",
        "\n",
        "class A:\n",
        "    def show(self):\n",
        "        print(\"Method from A\")\n",
        "\n",
        "class B(A):\n",
        "    def show(self):\n",
        "        print(\"Method from B\")\n",
        "\n",
        "class C(A):\n",
        "    def show(self):\n",
        "        print(\"Method from C\")\n",
        "\n",
        "class D(B, C):\n",
        "    pass\n",
        "\n",
        "# Example usage\n",
        "d = D()\n",
        "d.show()  # Output: Method from B\n",
        "\n",
        "\n",
        "# Method Resolution Order (MRO)\n",
        "\n",
        "#You can check the MRO of class `D` using the `mro()` method or the `__mro__` attribute:\n",
        "\n",
        "#python\n",
        "print(D.mro())          # Output: [<class '__main__.D'>, <class '__main__.B'>, <class '__main__.C'>, <class '__main__.A'>, <class 'object'>]\n",
        "print(D.__mro__)       # Output: (<class '__main__.D'>, <class '__main__.B'>, <class '__main__.C'>, <class '__main__.A'>, <class 'object'>)\n"
      ],
      "metadata": {
        "colab": {
          "base_uri": "https://localhost:8080/"
        },
        "id": "mQ2BROfV5Kwj",
        "outputId": "c2cc2e5e-76ea-47a1-9fde-7f977ed90a05"
      },
      "execution_count": 39,
      "outputs": [
        {
          "output_type": "stream",
          "name": "stdout",
          "text": [
            "Method from B\n",
            "[<class '__main__.D'>, <class '__main__.B'>, <class '__main__.C'>, <class '__main__.A'>, <class 'object'>]\n",
            "(<class '__main__.D'>, <class '__main__.B'>, <class '__main__.C'>, <class '__main__.A'>, <class 'object'>)\n"
          ]
        }
      ]
    },
    {
      "cell_type": "code",
      "source": [
        "#14.Write a class method that keeps track of the number of instances created from a class.\n",
        "#ans\n",
        "class InstanceCounter:\n",
        "    instance_count = 0  # Class variable to keep track of instances\n",
        "\n",
        "    def __init__(self):\n",
        "        InstanceCounter.instance_count += 1  # Increment count on instantiation\n",
        "\n",
        "    @classmethod\n",
        "    def get_instance_count(cls):\n",
        "        return cls.instance_count  # Return the current instance count"
      ],
      "metadata": {
        "id": "LJ-_3Q-d5s2B"
      },
      "execution_count": 40,
      "outputs": []
    },
    {
      "cell_type": "code",
      "source": [
        "#15.Implement a static method in a class that checks if a given year is a leap year.\n",
        "#ans. class YearUtils:\n",
        "@staticmethod\n",
        "\n",
        "def is_leap_year(year):\n",
        "  \"\"\"Check if the given year is a leap year.\"\"\"\n",
        "  if (year % 4 == 0 and year % 100 != 0) or (year % 400 == 0):\n",
        "    return True\n",
        "    return False"
      ],
      "metadata": {
        "id": "x7kaKump50vv"
      },
      "execution_count": 43,
      "outputs": []
    },
    {
      "cell_type": "code",
      "source": [
        "is_leap_year(2010)\n"
      ],
      "metadata": {
        "id": "ZjMfELtz54Bs"
      },
      "execution_count": 44,
      "outputs": []
    },
    {
      "cell_type": "code",
      "source": [],
      "metadata": {
        "id": "E90pabMZ6HdO"
      },
      "execution_count": null,
      "outputs": []
    }
  ]
}